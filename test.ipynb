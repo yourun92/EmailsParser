{
 "cells": [
  {
   "cell_type": "code",
   "execution_count": 13,
   "id": "8e3acd34",
   "metadata": {},
   "outputs": [
    {
     "name": "stderr",
     "output_type": "stream",
     "text": [
      "Downloading https://raw.githubusercontent.com/stanfordnlp/stanza-resources/main/resources_1.10.0.json: 426kB [00:00, 4.25MB/s]                    \n",
      "2025-05-12 16:39:34 INFO: Downloaded file to C:\\Users\\iurii_enix\\stanza_resources\\resources.json\n",
      "2025-05-12 16:39:34 INFO: Downloading these customized packages for language: ru (Russian)...\n",
      "========================================\n",
      "| Processor       | Package            |\n",
      "----------------------------------------\n",
      "| tokenize        | syntagrus          |\n",
      "| pos             | syntagrus_charlm   |\n",
      "| lemma           | syntagrus_nocharlm |\n",
      "| pretrain        | conll17            |\n",
      "| forward_charlm  | newswiki           |\n",
      "| backward_charlm | newswiki           |\n",
      "========================================\n",
      "\n",
      "2025-05-12 16:39:34 INFO: File exists: C:\\Users\\iurii_enix\\stanza_resources\\ru\\tokenize\\syntagrus.pt\n",
      "2025-05-12 16:39:34 INFO: File exists: C:\\Users\\iurii_enix\\stanza_resources\\ru\\pos\\syntagrus_charlm.pt\n",
      "2025-05-12 16:39:34 INFO: File exists: C:\\Users\\iurii_enix\\stanza_resources\\ru\\lemma\\syntagrus_nocharlm.pt\n",
      "2025-05-12 16:39:34 INFO: File exists: C:\\Users\\iurii_enix\\stanza_resources\\ru\\pretrain\\conll17.pt\n",
      "2025-05-12 16:39:34 INFO: File exists: C:\\Users\\iurii_enix\\stanza_resources\\ru\\forward_charlm\\newswiki.pt\n",
      "2025-05-12 16:39:34 INFO: File exists: C:\\Users\\iurii_enix\\stanza_resources\\ru\\backward_charlm\\newswiki.pt\n",
      "2025-05-12 16:39:34 INFO: Finished downloading models and saved to C:\\Users\\iurii_enix\\stanza_resources\n"
     ]
    }
   ],
   "source": [
    "import stanza\n",
    "\n",
    "stanza.download('ru', processors='tokenize,pos,lemma')"
   ]
  },
  {
   "cell_type": "code",
   "execution_count": 40,
   "id": "68bdbfd1",
   "metadata": {},
   "outputs": [
    {
     "name": "stderr",
     "output_type": "stream",
     "text": [
      "2025-05-12 17:10:03 INFO: Checking for updates to resources.json in case models have been updated.  Note: this behavior can be turned off with download_method=None or download_method=DownloadMethod.REUSE_RESOURCES\n",
      "Downloading https://raw.githubusercontent.com/stanfordnlp/stanza-resources/main/resources_1.10.0.json: 426kB [00:00, 3.79MB/s]                    \n",
      "2025-05-12 17:10:04 INFO: Downloaded file to C:\\Users\\iurii_enix\\stanza_resources\\resources.json\n",
      "2025-05-12 17:10:04 INFO: Loading these models for language: ru (Russian):\n",
      "==================================\n",
      "| Processor | Package            |\n",
      "----------------------------------\n",
      "| tokenize  | syntagrus          |\n",
      "| pos       | syntagrus_charlm   |\n",
      "| lemma     | syntagrus_nocharlm |\n",
      "==================================\n",
      "\n",
      "2025-05-12 17:10:04 INFO: Using device: cpu\n",
      "2025-05-12 17:10:04 INFO: Loading: tokenize\n",
      "2025-05-12 17:10:04 INFO: Loading: pos\n",
      "2025-05-12 17:10:08 INFO: Loading: lemma\n",
      "2025-05-12 17:10:12 INFO: Done loading processors!\n"
     ]
    }
   ],
   "source": [
    "import stanza\n",
    "nlp = stanza.Pipeline('ru', processors='tokenize,pos,lemma', use_gpu=False)"
   ]
  },
  {
   "cell_type": "code",
   "execution_count": 31,
   "id": "d3ce1386",
   "metadata": {},
   "outputs": [],
   "source": [
    "keywords = [\n",
    "    \"гидрошпонка\", \"фиксатор арматуры\", \"бетон\", \"арматура\", \"эмульсол\",\n",
    "    \"опалубка\", \"опалубочные\", \"БДК\", \"балка\", \"замок\", \"ригель\",\n",
    "    \"бентонитовый\", \"гернитовый\", \"бентонит\", \"гернит\"\n",
    "]\n",
    "\n",
    "\n",
    "def lemmatize_phrase(phrase):\n",
    "    doc = nlp(phrase.lower())\n",
    "    return \" \".join([word.lemma for sent in doc.sentences for word in sent.words])\n",
    "\n",
    "# Леммы ключевых фраз\n",
    "lemmatized_keywords = [lemmatize_phrase(k) for k in keywords]\n"
   ]
  },
  {
   "cell_type": "code",
   "execution_count": 32,
   "id": "d7d639f8",
   "metadata": {},
   "outputs": [
    {
     "data": {
      "text/plain": [
       "['гидрошпонка',\n",
       " 'фиксатор арматура',\n",
       " 'бетон',\n",
       " 'арматура',\n",
       " 'эмульсол',\n",
       " 'опалубка',\n",
       " 'опалубочный',\n",
       " 'бдк',\n",
       " 'балк',\n",
       " 'замок',\n",
       " 'ригель',\n",
       " 'бентонитовый',\n",
       " 'гернитовый',\n",
       " 'бентонит',\n",
       " 'гернит']"
      ]
     },
     "execution_count": 32,
     "metadata": {},
     "output_type": "execute_result"
    }
   ],
   "source": [
    "lemmatized_keywords"
   ]
  },
  {
   "cell_type": "code",
   "execution_count": 71,
   "id": "a2499763",
   "metadata": {},
   "outputs": [
    {
     "data": {
      "text/plain": [
       "[\n",
       "  [\n",
       "    {\n",
       "      \"id\": 1,\n",
       "      \"text\": \"пароль\",\n",
       "      \"lemma\": \"пароль\",\n",
       "      \"upos\": \"NOUN\",\n",
       "      \"feats\": \"Animacy=Inan|Case=Nom|Gender=Masc|Number=Sing\",\n",
       "      \"start_char\": 0,\n",
       "      \"end_char\": 6,\n",
       "      \"misc\": \"SpaceAfter=No\"\n",
       "    },\n",
       "    {\n",
       "      \"id\": 2,\n",
       "      \"text\": \",\",\n",
       "      \"lemma\": \",\",\n",
       "      \"upos\": \"PUNCT\",\n",
       "      \"start_char\": 6,\n",
       "      \"end_char\": 7,\n",
       "      \"misc\": \"SpaceAfter=No\"\n",
       "    }\n",
       "  ]\n",
       "]"
      ]
     },
     "execution_count": 71,
     "metadata": {},
     "output_type": "execute_result"
    }
   ],
   "source": [
    "nlp('пароль,')"
   ]
  },
  {
   "cell_type": "code",
   "execution_count": null,
   "id": "8e24cbda",
   "metadata": {},
   "outputs": [],
   "source": [
    "body = '''From: Кирилл Одиноков <kirill@enix.ru>\n",
    "Subject: Re: Api wotstat\n",
    "Body: отзывы, характеристики, как, что, сертификат, паспорт, производитель,\n",
    "ростов, воронеж, условия хранения, сериал, фильм, смотреть, в хорошем\n",
    "качестве, онлайн, применение, в чебоксарах, сп, калькулятор, снип, в\n",
    "красноярске, в краснодаре, букв, леруа, сканворд, краснодар,\n",
    "екатеринбург, требования, в частном доме, фото, видео, youtube, инструкция\n",
    "\n",
    "24.03.2025 8:54, Останин Юрий Андреевич пишет:\n",
    "--\n",
    "Email Signature\n",
    "Logo <https://www.enix.ru>      Logo\n",
    "Одиноков Кирилл\n",
    "\n",
    "+ 7 (915) 404 00 60 | +7 (978) 313 96 25\n",
    "kirill@enix.ru| www.enix.ru <http://www.enix.ru>\n",
    "Офис: г. Москва, Большой Саввинский переулок дом 9 стр. 2, Бухгалтерские\n",
    "документы: buh@enix.ru\n",
    "Facebook icon <https://vk.com/enyx_ru> LinkedIn icon\n",
    "<https://ru-ru.facebook.com/enyx.ru/>\n",
    "\n",
    "Banner <https://enix.ru>'''\n",
    "\n",
    "\n",
    "doc = nlp(body.lower())\n",
    "string = [word.lemma for sent in nlp('условии хранений').sentences for word in sent.words][0]\n",
    "lemmas_in_text = \" \".join([word.lemma for sent in doc.sentences for word in sent.words])"
   ]
  },
  {
   "cell_type": "code",
   "execution_count": null,
   "id": "ed8247ef",
   "metadata": {},
   "outputs": [
    {
     "data": {
      "text/plain": [
       "True"
      ]
     },
     "execution_count": 69,
     "metadata": {},
     "output_type": "execute_result"
    }
   ],
   "source": []
  },
  {
   "cell_type": "code",
   "execution_count": 47,
   "id": "75398d83",
   "metadata": {},
   "outputs": [
    {
     "data": {
      "text/plain": [
       "[\n",
       "  [\n",
       "    {\n",
       "      \"id\": 1,\n",
       "      \"text\": \"сертификаты\",\n",
       "      \"lemma\": \"сертификат\",\n",
       "      \"upos\": \"NOUN\",\n",
       "      \"feats\": \"Animacy=Inan|Case=Nom|Gender=Masc|Number=Plur\",\n",
       "      \"start_char\": 0,\n",
       "      \"end_char\": 11,\n",
       "      \"misc\": \"SpaceAfter=No\"\n",
       "    }\n",
       "  ]\n",
       "]"
      ]
     },
     "execution_count": 47,
     "metadata": {},
     "output_type": "execute_result"
    }
   ],
   "source": [
    "string"
   ]
  },
  {
   "cell_type": "code",
   "execution_count": null,
   "id": "90bcc1e2",
   "metadata": {},
   "outputs": [],
   "source": []
  }
 ],
 "metadata": {
  "kernelspec": {
   "display_name": "Python 3",
   "language": "python",
   "name": "python3"
  },
  "language_info": {
   "codemirror_mode": {
    "name": "ipython",
    "version": 3
   },
   "file_extension": ".py",
   "mimetype": "text/x-python",
   "name": "python",
   "nbconvert_exporter": "python",
   "pygments_lexer": "ipython3",
   "version": "3.13.2"
  }
 },
 "nbformat": 4,
 "nbformat_minor": 5
}
