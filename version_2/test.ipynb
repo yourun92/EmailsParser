{
 "cells": [
  {
   "cell_type": "code",
   "execution_count": 15,
   "id": "07021b43",
   "metadata": {},
   "outputs": [
    {
     "name": "stdout",
     "output_type": "stream",
     "text": [
      "None\n"
     ]
    }
   ],
   "source": [
    "import mailbox\n",
    "from email.header import decode_header, make_header\n",
    "import pandas as pd\n",
    "\n",
    "mbox = mailbox.mbox('Inbox_my')\n",
    "\n",
    "for msg in mbox:\n",
    "    print(msg.get('References'))\n",
    "    break"
   ]
  },
  {
   "cell_type": "code",
   "execution_count": null,
   "id": "273bcafd",
   "metadata": {},
   "outputs": [],
   "source": [
    "import subprocess\n",
    "\n",
    "path_to_7z = r'C:\\Program Files\\7-Zip\\7z.exe'\n",
    "archive_path = r'D:\\data\\enix_info\\info@enix.ru.7z.001'\n",
    "output_folder = r'D:\\data\\enix_info\\extracted'\n",
    "\n",
    "result = subprocess.run(\n",
    "    [path_to_7z, 'x', archive_path, f'-o{output_folder}'],\n",
    "    stdout=subprocess.PIPE,\n",
    "    stderr=subprocess.PIPE,\n",
    "    text=True\n",
    ")\n",
    "\n",
    "print(result.stdout)\n",
    "print(result.stderr)"
   ]
  },
  {
   "cell_type": "code",
   "execution_count": null,
   "id": "d9e32db8",
   "metadata": {},
   "outputs": [],
   "source": []
  }
 ],
 "metadata": {
  "kernelspec": {
   "display_name": "Python 3",
   "language": "python",
   "name": "python3"
  },
  "language_info": {
   "codemirror_mode": {
    "name": "ipython",
    "version": 3
   },
   "file_extension": ".py",
   "mimetype": "text/x-python",
   "name": "python",
   "nbconvert_exporter": "python",
   "pygments_lexer": "ipython3",
   "version": "3.13.2"
  }
 },
 "nbformat": 4,
 "nbformat_minor": 5
}
