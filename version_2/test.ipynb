{
 "cells": [
  {
   "cell_type": "code",
   "execution_count": 15,
   "id": "07021b43",
   "metadata": {},
   "outputs": [
    {
     "name": "stdout",
     "output_type": "stream",
     "text": [
      "None\n"
     ]
    }
   ],
   "source": [
    "import mailbox\n",
    "from email.header import decode_header, make_header\n",
    "import pandas as pd\n",
    "\n",
    "mbox = mailbox.mbox('Inbox_my')\n",
    "\n",
    "for msg in mbox:\n",
    "    print(msg.get('References'))\n",
    "    break"
   ]
  },
  {
   "cell_type": "code",
   "execution_count": 1,
   "id": "273bcafd",
   "metadata": {},
   "outputs": [
    {
     "name": "stdout",
     "output_type": "stream",
     "text": [
      "\n",
      "7-Zip 24.09 (x64) : Copyright (c) 1999-2024 Igor Pavlov : 2024-11-29\n",
      "\n",
      "Scanning the drive for archives:\n",
      "1 file, 26843545600 bytes (25 GiB)\n",
      "\n",
      "Extracting archive: D:\\data\\enix_info\\info@enix.ru.7z.001\n",
      "--\n",
      "Path = D:\\data\\enix_info\\info@enix.ru.7z.001\n",
      "Type = Split\n",
      "Physical Size = 26843545600\n",
      "Volumes = 3\n",
      "Total Physical Size = 54157606660\n",
      "----\n",
      "Path = info@enix.ru.7z\n",
      "Size = 54157606660\n",
      "--\n",
      "Path = info@enix.ru.7z\n",
      "Type = 7z\n",
      "Physical Size = 54157606660\n",
      "Headers Size = 784\n",
      "Method = LZMA2:24\n",
      "Solid = +\n",
      "Blocks = 8\n",
      "\n",
      "Everything is Ok\n",
      "\n",
      "Folders: 2\n",
      "Files: 27\n",
      "Size:       88535646205\n",
      "Compressed: 54157606660\n",
      "\n",
      "\n"
     ]
    }
   ],
   "source": [
    "import subprocess\n",
    "\n",
    "path_to_7z = r'C:\\Program Files\\7-Zip\\7z.exe'\n",
    "archive_path = r'D:\\data\\enix_info\\info@enix.ru.7z.001'\n",
    "output_folder = r'D:\\data\\enix_info\\extracted'\n",
    "\n",
    "result = subprocess.run(\n",
    "    [path_to_7z, 'x', archive_path, f'-o{output_folder}'],\n",
    "    stdout=subprocess.PIPE,\n",
    "    stderr=subprocess.PIPE,\n",
    "    text=True\n",
    ")\n",
    "\n",
    "print(result.stdout)\n",
    "print(result.stderr)"
   ]
  },
  {
   "cell_type": "code",
   "execution_count": 5,
   "id": "d9e32db8",
   "metadata": {},
   "outputs": [],
   "source": [
    "import pandas as pd\n",
    "\n",
    "df1 = pd.read_parquet('output.parquet')\n",
    "df2 = pd.read_parquet('output_last.parquet')\n",
    "\n",
    "df = pd.concat([df1, df2], ignore_index=True)\n",
    "df.to_parquet('result.parquet', index=False)"
   ]
  },
  {
   "cell_type": "code",
   "execution_count": null,
   "id": "88a07e19",
   "metadata": {},
   "outputs": [
    {
     "data": {
      "text/plain": [
       "167464"
      ]
     },
     "execution_count": 7,
     "metadata": {},
     "output_type": "execute_result"
    }
   ],
   "source": [
    "df = pd.read_parquet('result.parquet')\n"
   ]
  },
  {
   "cell_type": "code",
   "execution_count": 11,
   "id": "91973a4c",
   "metadata": {},
   "outputs": [
    {
     "data": {
      "text/html": [
       "<div>\n",
       "<style scoped>\n",
       "    .dataframe tbody tr th:only-of-type {\n",
       "        vertical-align: middle;\n",
       "    }\n",
       "\n",
       "    .dataframe tbody tr th {\n",
       "        vertical-align: top;\n",
       "    }\n",
       "\n",
       "    .dataframe thead th {\n",
       "        text-align: right;\n",
       "    }\n",
       "</style>\n",
       "<table border=\"1\" class=\"dataframe\">\n",
       "  <thead>\n",
       "    <tr style=\"text-align: right;\">\n",
       "      <th></th>\n",
       "      <th>sender</th>\n",
       "      <th>subject</th>\n",
       "      <th>body</th>\n",
       "      <th>date</th>\n",
       "    </tr>\n",
       "  </thead>\n",
       "  <tbody>\n",
       "    <tr>\n",
       "      <th>107607</th>\n",
       "      <td>Ирина Лимашевская &lt;metizzakup@yandex.ru&gt;</td>\n",
       "      <td>Re: запрос</td>\n",
       "      <td>\"бетонитовый\"\\n \\n19.04.2019, 10:04, \"Ирина Ли...</td>\n",
       "      <td>2019-04-19 03:52:58+03:00</td>\n",
       "    </tr>\n",
       "    <tr>\n",
       "      <th>104953</th>\n",
       "      <td>Ирина Лимашевская &lt;metizzakup@yandex.ru&gt;</td>\n",
       "      <td>Re: запрос</td>\n",
       "      <td>\"бетонитовый\"\\n \\n19.04.2019, 10:04, \"Ирина Ли...</td>\n",
       "      <td>2019-04-19 03:52:58+03:00</td>\n",
       "    </tr>\n",
       "    <tr>\n",
       "      <th>160779</th>\n",
       "      <td>Ирина Лимашевская &lt;metizzakup@yandex.ru&gt;</td>\n",
       "      <td>Re: запрос</td>\n",
       "      <td>\"бетонитовый\"\\n \\n19.04.2019, 10:04, \"Ирина Ли...</td>\n",
       "      <td>2019-04-19 03:52:58+03:00</td>\n",
       "    </tr>\n",
       "    <tr>\n",
       "      <th>89694</th>\n",
       "      <td>Ирина Лимашевская &lt;metizzakup@yandex.ru&gt;</td>\n",
       "      <td>Re: запрос</td>\n",
       "      <td>\"бетонитовый\"\\n \\n19.04.2019, 10:04, \"Ирина Ли...</td>\n",
       "      <td>2019-04-19 03:52:58+03:00</td>\n",
       "    </tr>\n",
       "    <tr>\n",
       "      <th>115698</th>\n",
       "      <td>Ирина Лимашевская &lt;metizzakup@yandex.ru&gt;</td>\n",
       "      <td>Re: запрос</td>\n",
       "      <td>\"бетонитовый\"\\n \\n19.04.2019, 10:04, \"Ирина Ли...</td>\n",
       "      <td>2019-04-19 03:52:58+03:00</td>\n",
       "    </tr>\n",
       "  </tbody>\n",
       "</table>\n",
       "</div>"
      ],
      "text/plain": [
       "                                          sender     subject  \\\n",
       "107607  Ирина Лимашевская <metizzakup@yandex.ru>  Re: запрос   \n",
       "104953  Ирина Лимашевская <metizzakup@yandex.ru>  Re: запрос   \n",
       "160779  Ирина Лимашевская <metizzakup@yandex.ru>  Re: запрос   \n",
       "89694   Ирина Лимашевская <metizzakup@yandex.ru>  Re: запрос   \n",
       "115698  Ирина Лимашевская <metizzakup@yandex.ru>  Re: запрос   \n",
       "\n",
       "                                                     body  \\\n",
       "107607  \"бетонитовый\"\\n \\n19.04.2019, 10:04, \"Ирина Ли...   \n",
       "104953  \"бетонитовый\"\\n \\n19.04.2019, 10:04, \"Ирина Ли...   \n",
       "160779  \"бетонитовый\"\\n \\n19.04.2019, 10:04, \"Ирина Ли...   \n",
       "89694   \"бетонитовый\"\\n \\n19.04.2019, 10:04, \"Ирина Ли...   \n",
       "115698  \"бетонитовый\"\\n \\n19.04.2019, 10:04, \"Ирина Ли...   \n",
       "\n",
       "                            date  \n",
       "107607 2019-04-19 03:52:58+03:00  \n",
       "104953 2019-04-19 03:52:58+03:00  \n",
       "160779 2019-04-19 03:52:58+03:00  \n",
       "89694  2019-04-19 03:52:58+03:00  \n",
       "115698 2019-04-19 03:52:58+03:00  "
      ]
     },
     "execution_count": 11,
     "metadata": {},
     "output_type": "execute_result"
    }
   ],
   "source": [
    "df.sort_values(by='date').head()"
   ]
  },
  {
   "cell_type": "code",
   "execution_count": null,
   "id": "8fe4cab7",
   "metadata": {},
   "outputs": [],
   "source": []
  }
 ],
 "metadata": {
  "kernelspec": {
   "display_name": "Python 3",
   "language": "python",
   "name": "python3"
  },
  "language_info": {
   "codemirror_mode": {
    "name": "ipython",
    "version": 3
   },
   "file_extension": ".py",
   "mimetype": "text/x-python",
   "name": "python",
   "nbconvert_exporter": "python",
   "pygments_lexer": "ipython3",
   "version": "3.13.2"
  }
 },
 "nbformat": 4,
 "nbformat_minor": 5
}
